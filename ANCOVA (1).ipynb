{
  "metadata": {
    "kernelspec": {
      "name": "python",
      "display_name": "Python (Pyodide)",
      "language": "python"
    },
    "language_info": {
      "codemirror_mode": {
        "name": "python",
        "version": 3
      },
      "file_extension": ".py",
      "mimetype": "text/x-python",
      "name": "python",
      "nbconvert_exporter": "python",
      "pygments_lexer": "ipython3",
      "version": "3.8"
    }
  },
  "nbformat_minor": 5,
  "nbformat": 4,
  "cells": [
    {
      "cell_type": "markdown",
      "source": "## ANCOVA\n\nAnalysis of covariance (ANCOVA) is a general linear model which blends ANOVA and regression. ANCOVA evaluates whether the means of a dependent variable (dv) are equal across levels of a categorical independent variable (between) often called a treatment, while statistically controlling for the effects of other continuous variables that are not of primary interest, known as covariates or nuisance variables (covar).\n\nPingouin uses statsmodels.regression.linear_model.OLS to compute the ANCOVA",
      "metadata": {},
      "id": "605125ce"
    },
    {
      "cell_type": "markdown",
      "source": "1. Evaluate the reading scores of students with different teaching method and family income as a covariate.\n\n",
      "metadata": {},
      "id": "ea1bdc1e"
    },
    {
      "cell_type": "code",
      "source": "!pip install pingouin",
      "metadata": {
        "trusted": true
      },
      "execution_count": null,
      "outputs": [],
      "id": "5142baf0-f6da-41cd-b287-1d14fa79ed21"
    },
    {
      "cell_type": "code",
      "source": "import pandas as pd\nimport numpy as np\nimport scipy as sp\nimport matplotlib as mp\nimport pingouin as pg",
      "metadata": {
        "trusted": true
      },
      "execution_count": null,
      "outputs": [],
      "id": "81a5c129-65f7-4150-9523-45852e1cfc75"
    },
    {
      "cell_type": "code",
      "source": "from pingouin import ancova, read_dataset\ndf = read_dataset('ancova')\nancova(data=df, dv='Scores', covar='Income', between='Method')",
      "metadata": {
        "trusted": true
      },
      "execution_count": null,
      "outputs": [],
      "id": "d88b0392"
    },
    {
      "cell_type": "markdown",
      "source": "2. Evaluate the reading scores of students with different teaching method and family income + BMI as a covariate.\n\n",
      "metadata": {},
      "id": "69fc7bda"
    },
    {
      "cell_type": "code",
      "source": "ancova(data=df, dv='Scores', covar=['Income', 'BMI'], between='Method',\n       effsize=\"n2\")",
      "metadata": {},
      "execution_count": null,
      "outputs": [],
      "id": "e3aebefb"
    }
  ]
}